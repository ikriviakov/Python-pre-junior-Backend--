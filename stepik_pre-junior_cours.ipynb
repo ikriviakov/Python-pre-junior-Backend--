{
 "cells": [
  {
   "cell_type": "code",
   "execution_count": null,
   "metadata": {},
   "outputs": [],
   "source": [
    "# Библиотеки. Функции\n",
    "import math\n",
    "import numpy as np\n",
    "import re\n",
    "from prettytable import PrettyTable\n",
    "\n",
    "\n",
    "def print_table(th, td):\n",
    "    table = PrettyTable(th)\n",
    "    columns = len(th) \n",
    "    td_data = td.tolist()[:]\n",
    "    while td_data:\n",
    "        table.add_row(td_data[:columns])\n",
    "        td_data = td_data[columns:]\n",
    "    print(table)"
   ]
  },
  {
   "attachments": {},
   "cell_type": "markdown",
   "metadata": {},
   "source": [
    "Арифметические операции"
   ]
  },
  {
   "cell_type": "code",
   "execution_count": null,
   "metadata": {},
   "outputs": [],
   "source": [
    "# Дано три дробных числа A, B, C. Найдите их сумму. Для решения задачи используйте функцию в таком виде math.fsum((A,B,C))\n",
    "\n",
    "a = float(input())\n",
    "b = float(input())\n",
    "c = float(input())\n",
    "sum = math.fsum((a, b, c))\n",
    "\n",
    "print(sum)"
   ]
  },
  {
   "cell_type": "code",
   "execution_count": null,
   "metadata": {},
   "outputs": [],
   "source": [
    "# Даны два целых числа A, B. Найдите наибольший общий делитель этих двух чисел.\n",
    "\n",
    "a = int(input())\n",
    "b = int(input())\n",
    "nod = math.gcd(a, b)\n",
    "\n",
    "print(nod)\n"
   ]
  },
  {
   "cell_type": "code",
   "execution_count": null,
   "metadata": {},
   "outputs": [],
   "source": [
    "# Битовые операторы\n",
    "# Инверсия – ~\n",
    "# Сдвиг вправо – >>\n",
    "# Сдвиг влево – <<\n",
    "# И – &\n",
    "# ИЛИ – |\n",
    "# XOR (Исключающее или) – ^\n",
    "\n",
    "print(13 << 2 >> 1)\n",
    "\n",
    "# Вам удалось получить ключ шифрования злоумышленника, и вы знаете что был применен алгоритм шифрования XOR. Расшифруйте зашифрованные сообщения.\n",
    "# ключ = 47\n",
    "\n",
    "a = int(input())\n",
    "key = 47\n",
    "res = a ^ key\n",
    "print(res)"
   ]
  },
  {
   "attachments": {},
   "cell_type": "markdown",
   "metadata": {},
   "source": [
    "Условия"
   ]
  },
  {
   "cell_type": "code",
   "execution_count": null,
   "metadata": {},
   "outputs": [],
   "source": [
    "# Логические операторы\n",
    "# < Меньше (Первый операнд меньше второго)\n",
    "# > Больше (Первый операнд больше второго)\n",
    "# <= Меньше или равно \n",
    "# >= Больше или равно\n",
    "# == Равенство\n",
    "# != Неравенство\n",
    "\n",
    "# and – логическое «И» (Конъюнкция)\n",
    "# or – логическое «ИЛИ» (Дизъюнкция)\n",
    "# not – отрицание (Инверсия)\n",
    "\n",
    "print(5 % 3 == 2 or 10 < 5 < 20 )\n",
    "print(20 // 3 % 2 == 0 and 3 % 3 == 1)"
   ]
  },
  {
   "cell_type": "code",
   "execution_count": null,
   "metadata": {},
   "outputs": [],
   "source": [
    "# Напишите программу or которая получает на вход число or и отвечает на следующие вопросы:\n",
    "# 1) Является ли число четным?\n",
    "# 2) Число является положительным?\n",
    "# 3) Число находится в промежутке от -5 включительно до 5 включительно?\n",
    "# 4) Число делится на 3 и 4 or но не делится на 7?\n",
    "# 5) Является ли число трехзначным?\n",
    "\n",
    "n = int(input())\n",
    "\n",
    "f1 = (n % 2 == 0)\n",
    "f2 = (n > 0)\n",
    "f3 = (-5 <= n <= 5)\n",
    "f4 = (n % 3 == 0 and n % 4 == 0 and n % 7 != 0 or n % -3 == 0 and n % -4 == 0 and n % -7 != 0)\n",
    "f5 = (99 < n < 1000 or -1000 < n < -99)\n",
    "\n",
    "print (f1 or f2 or f3, f4, f5, sep = \"\\n\")"
   ]
  },
  {
   "cell_type": "code",
   "execution_count": null,
   "metadata": {},
   "outputs": [],
   "source": [
    "# Вашему серверу на вход прилетает IP-адрес (v4) клиента. Нужно определить, что IP-адрес – правильный.\n",
    "\n",
    "n1, n2, n3, n4 = [int(i) for i in input().split('.')]\n",
    "if (0 <= n1 <= 255 and 0 <= n2 <= 255 and 0 <= n3 <= 255 and 0 <= n4 <= 255):\n",
    "    if (n1 + n2 + n3 + n4 != 0):\n",
    "        if (n1 + n2 + n3 + n4 != 255 * 4):\n",
    "            if n4 >= n3 or n4 >= n2 or n4 >= n1:\n",
    "                print(False) \n",
    "            else:   \n",
    "                print(\"True\")\n",
    "        else:\n",
    "            print(\"False\")\n",
    "    else:\n",
    "        print(\"False\")\n",
    "else:\n",
    "    print(\"False\")\n"
   ]
  },
  {
   "cell_type": "code",
   "execution_count": null,
   "metadata": {},
   "outputs": [],
   "source": [
    "# Напишите программу, которая определяет день недели по прошедшему с понедельника количеству дней. Варианты вывода (пн, вт, ср, чт, пт, сб, вс).\n",
    "\n",
    "n = int(input())\n",
    "n += 1\n",
    "if n % 7 == 1:\n",
    "    print(\"пн\")\n",
    "elif n % 7 == 2:\n",
    "    print(\"вт\")\n",
    "elif n % 7 == 3:\n",
    "    print(\"ср\")\n",
    "elif n % 7 == 4:\n",
    "    print(\"чт\")\n",
    "elif n % 7 == 5:\n",
    "    print(\"пт\")\n",
    "elif n % 7 == 6:\n",
    "    print(\"сб\")\n",
    "else:\n",
    "    print(\"вс\")"
   ]
  },
  {
   "cell_type": "code",
   "execution_count": null,
   "metadata": {},
   "outputs": [],
   "source": [
    "# Дано 3 числа. Выведите наименьшее.\n",
    "\n",
    "m1, m2, m3 = int(input()), int(input()), int(input())\n",
    "\n",
    "n_1 = m1 < m2 and m1 < m3\n",
    "n_2 = m2 < m1 and m2 < m3\n",
    "n_3 = m3 < m1 and m3 < m2\n",
    "\n",
    "if n_1 == 1:\n",
    "    print(m1)\n",
    "elif n_2 == 1:\n",
    "    print(m2)\n",
    "else:\n",
    "    print(m3)"
   ]
  },
  {
   "cell_type": "code",
   "execution_count": null,
   "metadata": {},
   "outputs": [],
   "source": [
    "# Напишите программу, которая валидирует логин и пароль пользователя. Выведите True или False. Длина логина > 4; Длина пароля > 8; Логин не должен быть равен паролю.\n",
    "\n",
    "login = input()\n",
    "password = input()\n",
    "\n",
    "print(len(login) > 4 and len(password) > 8 and not login == password)"
   ]
  },
  {
   "cell_type": "code",
   "execution_count": null,
   "metadata": {},
   "outputs": [],
   "source": [
    "# Написатьсвоего бота-собеседника.\n",
    "# Бот должен знать команды:\n",
    "# \n",
    "# Привет - Здороваться с пользователем\n",
    "# Как дела? - Говорить, как у бота дела \n",
    "# Пока - Прощаться с пользователем\n",
    "# Если введена неизвестная команда, нужно вывести сообщение \"Прости, я еще не знаю таких фраз :(\"\n",
    "\n",
    "command = input()\n",
    "\n",
    "argument_1 = \"Привет!\"\n",
    "argument_2 = \"Все классно!\"\n",
    "argument_3 = \"До скорой встречи!\"\n",
    "\n",
    "match command:\n",
    "    case \"Привет\":\n",
    "        print(argument_1)\n",
    "    case \"Как дела?\":\n",
    "        print(argument_2)\n",
    "    case \"Пока\":\n",
    "        print(argument_3)\n",
    "    case _:\n",
    "        print(\"Прости, я еще не знаю таких фраз :(\")"
   ]
  },
  {
   "cell_type": "code",
   "execution_count": null,
   "metadata": {},
   "outputs": [],
   "source": [
    "# Напишите программу, которая по названию фреймворка будет определять язык и профессию человека.\n",
    "# Flask, Django, Fast-API – Python(<framework>),Backend-dev\n",
    "# Angular, React, Vue – JavaScript/TypeScript(<framework>),Frontend-dev\n",
    "# Flutter, React Native – JavaScript(<framework>),Cross-Mobile-dev\n",
    "# Pandas, skit-learn, keras – Python(<framework>),Data-Scientist\n",
    "\n",
    "\n",
    "match command := input():\n",
    "    case \"Flask\" | \"Django\" | \"Fast-API\" as framework:\n",
    "        print(\"Python(\", framework, \"),Backend-dev\", sep = \"\")\n",
    "    case \"Angular\" | \"React\" | \"Vue\" as framework:\n",
    "        print(\"JavaScript/TypeScript(\", framework, \"),Frontend-dev\", sep = \"\")\n",
    "    case \"Flutter\" | \"React Native\" as framework:\n",
    "        print(\"JavaScript(\", framework, \"),Cross-Mobile-dev\", sep = \"\")\n",
    "    case \"Pandas\" | \"skit-learn\" | \"keras\" as framework:\n",
    "        print(\"Python(\", framework, \"),Data-Scientist\", sep = \"\")\n",
    "    case _:\n",
    "        print(\"модель еще не обучена\")\n"
   ]
  },
  {
   "attachments": {},
   "cell_type": "markdown",
   "metadata": {},
   "source": [
    "Циклы"
   ]
  },
  {
   "cell_type": "code",
   "execution_count": null,
   "metadata": {},
   "outputs": [],
   "source": [
    "# Допишите программу так, чтобы она выводила получаемый на вход список чисел из переменной a.\n",
    "\n",
    "a = [int(i) for i in input().split()] # [1,2,3,4]\n",
    "\n",
    "for i in range (len(a)):\n",
    "    print(a[i])"
   ]
  },
  {
   "cell_type": "code",
   "execution_count": null,
   "metadata": {},
   "outputs": [],
   "source": [
    "# Посчитайте факториал числа n!\n",
    "\n",
    "fact = 1\n",
    "for i in range (n := int(input())):\n",
    "    fact *= i + 1\n",
    "\n",
    "print(fact)\n"
   ]
  },
  {
   "cell_type": "code",
   "execution_count": null,
   "metadata": {},
   "outputs": [],
   "source": [
    "# Код ниже выводит таблицу умножения\n",
    "\n",
    "\n",
    "for i in range(1, 10):\n",
    "    for j in range(1, 10):\n",
    "        print(i * j, end = \"\\t\")\n",
    "    print()"
   ]
  },
  {
   "cell_type": "code",
   "execution_count": null,
   "metadata": {},
   "outputs": [],
   "source": [
    "# Дано целое число n. Выведите n строк треугольника Паскаля без форматирования.\n",
    "\n",
    "# n = int(input()) \n",
    "# k = int(input()) \n",
    "\n",
    "c = 1\n",
    "\n",
    "for i in range(n := int(input())):\n",
    "    for j in range(n):\n",
    "        if i >= j:\n",
    "            c = int(math.factorial(i) / (math.factorial(j) * math.factorial(i - j)))\n",
    "            print(c, end = \"\")\n",
    "            # print ((n - i + j) * \" \", c, end = \"\")\n",
    "    print()\n",
    "\n",
    "\n",
    "\n"
   ]
  },
  {
   "cell_type": "code",
   "execution_count": null,
   "metadata": {},
   "outputs": [],
   "source": [
    "# Посчитайте произведение всех чисел последовательности, заканчивающейся нулем (ноль в последовательность не включаем).\n",
    "# Если чисел в последовательности нет – выведите нейтральное для произведения число – 1.\n",
    "\n",
    "res = 1\n",
    "flag = True\n",
    "while (flag):\n",
    "    n = int(input())\n",
    "    if n != 0:\n",
    "        res *= n\n",
    "    else:\n",
    "        flag = False\n",
    "\n",
    "print (res)\n"
   ]
  },
  {
   "cell_type": "code",
   "execution_count": null,
   "metadata": {},
   "outputs": [],
   "source": [
    "# Напишите программу, которая переводит число в систему счисления с основанием 5.\n",
    "\n",
    "number = int(input())\n",
    "result = ''\n",
    "digits = '01234'\n",
    "flag = True\n",
    "while number > 0:\n",
    "    result = digits[number % 5] + result\n",
    "    number //= 5\n",
    "    flag = False\n",
    "print (result)\n",
    "if number == 0 and flag:\n",
    "    print(0)\n"
   ]
  },
  {
   "cell_type": "code",
   "execution_count": null,
   "metadata": {},
   "outputs": [],
   "source": [
    "# Вашему серверу на вход поступает маска подсети. Нужно определить, что маска – правильная\n",
    "\n",
    "m1, m2, m3, m4 = [int(i) for i in input().split('.')]\n",
    "# 255, 254, 252, 248, 240, 224, 192, 128, 0\n",
    "\n",
    "if (0 <= m1 <= 255 and 0 <= m2 <= 255 and 0 <= m3 <= 255 and 0 <= m4 <= 255):\n",
    "    if m1 == 255 or m1 == 254 or m1 == 252 or m1 == 248 or m1 == 240 or m1 == 224 or m1 == 192 or m1 == 128 or m1== 0:\n",
    "        if m2 == 255 or m2 == 254 or m2 == 252 or m2 == 248 or m2 == 240 or m2 == 224 or m2 == 192 or m2 == 128 or m2 == 0:\n",
    "            if m3 == 255 or m3 == 254 or m3 == 252 or m3 == 248 or m3 == 240 or m3 == 224 or m3 == 192 or m3 == 128 or m3 == 0:\n",
    "                if m4 == 255 or m4 == 254 or m4 == 252 or m4 == 248 or m4 == 240 or m4 == 224 or m4 == 192 or m4 == 128 or m4 == 0:\n",
    "                    if m1 >= m2 and m1 >= m3 and m1 >= m4 and m2 >= m3 and m2 >= m4 and m3 >= m4:\n",
    "                        print(\"True\")\n",
    "                    else:\n",
    "                        print(\"False\")\n",
    "                else:\n",
    "                    print(\"False\")\n",
    "            else:\n",
    "                print(\"False\")\n",
    "        else:\n",
    "            print(\"False\")\n",
    "    else:\n",
    "        print(\"False\")\n",
    "else:\n",
    "    print(\"False\")\n",
    "\n",
    "\n"
   ]
  },
  {
   "cell_type": "code",
   "execution_count": null,
   "metadata": {},
   "outputs": [],
   "source": [
    "# Сначала определите, что полученные IP-адрес и маска являются правильными, а затем вычислите адрес сети.\n",
    "\n",
    "n1, n2, n3, n4 = [int(i) for i in input().split('.')]\n",
    "m1, m2, m3, m4 = [int(i) for i in input().split('.')]\n",
    "\n",
    "\n",
    "\n",
    "if (0 <= m1 <= 255 and 0 <= m2 <= 255 and 0 <= m3 <= 255 and 0 <= m4 <= 255):\n",
    "    if m1 == 255 or m1 == 254 or m1 == 252 or m1 == 248 or m1 == 240 or m1 == 224 or m1 == 192 or m1 == 128 or m1== 0:\n",
    "        if m2 == 255 or m2 == 254 or m2 == 252 or m2 == 248 or m2 == 240 or m2 == 224 or m2 == 192 or m2 == 128 or m2 == 0:\n",
    "            if m3 == 255 or m3 == 254 or m3 == 252 or m3 == 248 or m3 == 240 or m3 == 224 or m3 == 192 or m3 == 128 or m3 == 0:\n",
    "                if m4 == 255 or m4 == 254 or m4 == 252 or m4 == 248 or m4 == 240 or m4 == 224 or m4 == 192 or m4 == 128 or m4 == 0:\n",
    "                    if m1 >= m2 and m1 >= m3 and m1 >= m4 and m2 >= m3 and m2 >= m4 and m3 >= m4:\n",
    "                        if 0 <= n1 <= 255 and 0 <= n2 <= 255 and 0 <= n3 <= 255 and 0 <= n4 <= 255:\n",
    "                            if (n1 + n2 + n3 + n4) != 0:\n",
    "                                if (n1 + n2 + n3 + n4) != 255 * 4:\n",
    "                                    print(n1 & m1, n2 & m2, n3 & m3, n4 & m4, sep = \".\")\n",
    "                                else:   \n",
    "                                    print(\"Валидация не пройдена\")\n",
    "                            else:\n",
    "                                print(\"Валидация не пройдена\")\n",
    "                        else:\n",
    "                            print(\"Валидация не пройдена\")\n",
    "                    else:\n",
    "                        print(\"Валидация не пройдена\")\n",
    "                else:\n",
    "                    print(\"Валидация не пройдена\")\n",
    "            else:\n",
    "                print(\"Валидация не пройдена\")\n",
    "        else:\n",
    "            print(\"Валидация не пройдена\")\n",
    "    else:\n",
    "        print(\"Валидация не пройдена\")\n",
    "else:\n",
    "    print(\"Валидация не пройдена\")\n",
    "\n"
   ]
  },
  {
   "cell_type": "code",
   "execution_count": null,
   "metadata": {},
   "outputs": [],
   "source": [
    "# Бот-счетовод, которому на вход поступают несколько команд, а он выполняет вычисления.\n",
    "\n",
    "import re\n",
    "import math\n",
    "\n",
    "numeric_const_pattern = '[-+]? (?: (?: \\d* \\. \\d+ ) | (?: \\d+ \\.? ) )(?: [Ee] [+-]? \\d+ ) ?'\n",
    "rx = re.compile(numeric_const_pattern, re.VERBOSE)\n",
    "num = 0\n",
    "\n",
    "def bot (command, num):\n",
    "    while(command != \"exit\"):\n",
    "        match command.split():\n",
    "            case [\"zero\"]:\n",
    "                del num\n",
    "                num = 0\n",
    "            case [\"add\", any]:\n",
    "                num += int(float(''.join(rx.findall(command))))\n",
    "            case [\"mul\", any]:\n",
    "                num *= int(float(''.join(rx.findall(command))))\n",
    "            case [\"div\", any]:\n",
    "                num //= int(float(''.join(rx.findall(command))))\n",
    "            case [\"result\"]:\n",
    "                print(num)\n",
    "            case [\"exit\"]:\n",
    "                break\n",
    "        command = input()\n",
    "        \n",
    "bot(command := input(), num)\n",
    "\n"
   ]
  },
  {
   "attachments": {},
   "cell_type": "markdown",
   "metadata": {},
   "source": [
    "Строки"
   ]
  },
  {
   "cell_type": "code",
   "execution_count": null,
   "metadata": {},
   "outputs": [],
   "source": [
    "# Напишите программу, которая в случае, если строка не является натуральным числом, выведет \"не число\", \n",
    "# а в случае - если натуральное число, то выведет его, умноженное на 3.\n",
    "\n",
    "\n",
    "\n",
    "\n",
    "if (str := input()).isdigit():\n",
    "    print(int(str) * 3)\n",
    "else:\n",
    "    print(\"не число\")"
   ]
  },
  {
   "cell_type": "code",
   "execution_count": null,
   "metadata": {},
   "outputs": [],
   "source": [
    "# Напишите программу, которая получает на вход строку, и выводит каждый ее символ умноженный на индекс + 1.\n",
    "\n",
    "str = input()\n",
    "\n",
    "for i in range(len(str)):\n",
    "    print(str[i] * (i + 1))"
   ]
  },
  {
   "cell_type": "code",
   "execution_count": null,
   "metadata": {},
   "outputs": [],
   "source": [
    "# Выведите полученную строку в обратном порядке без первого символа.\n",
    "\n",
    "str = input()\n",
    "\n",
    "print(str[-1:0:-1])"
   ]
  },
  {
   "cell_type": "code",
   "execution_count": null,
   "metadata": {},
   "outputs": [],
   "source": [
    "# Дана строка длины не менее 4. Выведите:\n",
    "# 1) Ее второй символ, умноженный на 4\n",
    "# 2) Последние два символа строки, и добавьте к ним восклицательный знак\n",
    "# 3) Строку без трех последних символов\n",
    "# 4) Сделайте из строки палиндром при помощи добавления новых символов (слева направо и справа налево читается одинаково, к примеру слово \"мадам\")\n",
    "# 5) Все четные символы строки\n",
    "# 6) Все нечетные символы строки\n",
    "\n",
    "str = input()\n",
    "\n",
    "print(str[1] * 4)\n",
    "print(str[-2:] + '!')\n",
    "print(str[:-3])\n",
    "print(str + str[-1::-1])\n",
    "print(str[1::2])\n",
    "print(str[::2])\n",
    "\n"
   ]
  },
  {
   "cell_type": "code",
   "execution_count": null,
   "metadata": {},
   "outputs": [],
   "source": [
    "# Зашифруйте сообщение шифром цезаря.\n",
    "\n",
    "alfavit =  'abcdefghijklmnopqrstuvwxyzabcdefghijklmnopqrstuvwxyzабвгдеёжзийклмнопрстуфхцчшщъыьэюяабвгдеёжзийклмнопрстуфхцчшщъыьэюя'\n",
    "message = input(\"\")\n",
    "smeshenie = int(input(''))\n",
    "itog = ''\n",
    "for i in message:\n",
    "    mesto = alfavit.find(i)\n",
    "    new_mesto = mesto + smeshenie\n",
    "    if i in alfavit:\n",
    "        itog += alfavit[new_mesto]\n",
    "    else:\n",
    "        itog += i\n",
    "print (itog)"
   ]
  },
  {
   "cell_type": "code",
   "execution_count": null,
   "metadata": {},
   "outputs": [],
   "source": [
    "# Напишите программу-дешифратор шифра цезаря\n",
    "\n",
    "alfavit =  'яюэьыъщшчцхфутсрпонмлкйизжёедгвбаяюэьыъщшчцхфутсрпонмлкйизжёедгвбаzyxwvutsrqponmlkjihgfedcbazyxwvutsrqponmlkjihgfedcba'\n",
    "message = input(\"\")\n",
    "smeshenie = int(input(''))\n",
    "itog = ''\n",
    "for i in message:\n",
    "    mesto = alfavit.find(i)\n",
    "    new_mesto = mesto + smeshenie\n",
    "    if i in alfavit:\n",
    "        itog += alfavit[new_mesto]\n",
    "    else:\n",
    "        itog += i\n",
    "print (itog)"
   ]
  },
  {
   "cell_type": "code",
   "execution_count": null,
   "metadata": {},
   "outputs": [],
   "source": [
    "# Определите количество слов в строке, записанных через пробел.\n",
    "\n",
    "str = input()\n",
    "print(str.count(' '))"
   ]
  },
  {
   "cell_type": "code",
   "execution_count": null,
   "metadata": {},
   "outputs": [],
   "source": [
    "# Дана строка s. Найдите в ней подстроку, где наибольшее количество подряд идущих одинаковых символов. \n",
    "# Выведите символ и длину последовательности. Если таких несколько – выведите последнюю.\n",
    "\n",
    "str = input()\n",
    "n = str.count(str[0])\n",
    "tmp = 0\n",
    "s = ''\n",
    "flag = True\n",
    "\n",
    "for i in range(len(str)):\n",
    "    tmp = str.count(str[i])\n",
    "    if tmp >= n:\n",
    "        n = tmp\n",
    "        while flag:\n",
    "            if str.find(str[i] * n) == -1:\n",
    "                n -= 1\n",
    "            else:\n",
    "                flag = not flag\n",
    "        flag = not flag\n",
    "        s = str[i]\n",
    "\n",
    "print(s, n, sep = '\\n')\n"
   ]
  },
  {
   "cell_type": "code",
   "execution_count": null,
   "metadata": {},
   "outputs": [],
   "source": [
    "# Дано вещественное число n. Отформатируйте число до трех знаков после запятой с использованием f-строк.\n",
    "\n",
    "n = float(input())\n",
    "print(f'{n:.3f}')"
   ]
  },
  {
   "attachments": {},
   "cell_type": "markdown",
   "metadata": {},
   "source": [
    "Списки и кортежи"
   ]
  },
  {
   "cell_type": "code",
   "execution_count": null,
   "metadata": {},
   "outputs": [],
   "source": [
    "# Методы списков\n",
    "# list.append(item) -> Добавляет элемент item в конец списка.\n",
    "# list.insert(index, item) -> Добавляет элемент item в список по индексу index\n",
    "# list.remove(item) -> Удаляет элемент item.\n",
    "# list.clear() -> Удаляет все элементы списка.\n",
    "# list.index(item) -> Возвращает индекс элемента item.\n",
    "# list.pop([index]) -> Удаляет и возвращает элемент по индексу index.  \n",
    "# list.count(item) -> Возвращает количество вхождений элемента item в список.\n",
    "# list.sort([key]) -> Сортирует элементы списка.\n",
    "# list.reverse() -> Переставляет все компоненты в обратном порядке."
   ]
  },
  {
   "cell_type": "code",
   "execution_count": null,
   "metadata": {},
   "outputs": [],
   "source": [
    "# На вход вашей программе поступает список целых чисел через пробел.\n",
    "# Напишите программу которая выводит произведение этих чисел.\n",
    "\n",
    "str = input().split(\" \")\n",
    "res = 1\n",
    "for i in range(len(str)):\n",
    "    res *= int(str[i])\n",
    "print(res)\n"
   ]
  },
  {
   "cell_type": "code",
   "execution_count": null,
   "metadata": {},
   "outputs": [],
   "source": [
    "# На вход вашей программе поступает список целых чисел через пробел (минимум 2)\n",
    "# Напишите программу, которая выводит через пробел суммы чисел стоящих рядом друг с другом.\n",
    "\n",
    "str = input().split(' ')\n",
    "if str.count('') != 0:\n",
    "    str.remove('')\n",
    "for i in range(len(str)):\n",
    "    if str[i] == '':\n",
    "        None\n",
    "    elif i != 0:\n",
    "        print(int(str[i - 1]) + int(str[i]), end = \" \")"
   ]
  },
  {
   "cell_type": "code",
   "execution_count": null,
   "metadata": {},
   "outputs": [],
   "source": [
    "# На вход вашей программе поступает список целых чисел через пробел.\n",
    "# Напишите программу которая определяет второе по величине число в списке.\n",
    "\n",
    "\n",
    "import re\n",
    "\n",
    "\n",
    "str1 = input().split(' ')\n",
    "if str1.count('') != 0:\n",
    "    str1.remove('')\n",
    "\n",
    "str1 = ' '.join(str1)\n",
    "str = sorted(re.findall(r'-?\\d+', str1), key=int)\n",
    "\n",
    "n = - len(str) + 2\n",
    "if n == 1:\n",
    "    print(str[0])\n",
    "else:\n",
    "    for i in range(len(str)):\n",
    "        if str[-i - 1] == str[-i - 2]:\n",
    "            n += 1\n",
    "        else:\n",
    "            break\n",
    "    print(str[-n])"
   ]
  },
  {
   "cell_type": "code",
   "execution_count": null,
   "metadata": {},
   "outputs": [],
   "source": [
    "# На вход вашей программе поступает список целых чисел через пробел.\n",
    "# Отсортируйте массив так, чтобы все нули в нем оказались в конце массива, сохранив при этом порядок чисел.\n",
    "\n",
    "str = input().split()\n",
    "n = str.count('0')\n",
    "\n",
    "for i in range(n):\n",
    "    str.remove('0')\n",
    "for i in range(n):\n",
    "    str.append('0')\n",
    "print(' '.join(str))"
   ]
  },
  {
   "cell_type": "code",
   "execution_count": null,
   "metadata": {},
   "outputs": [],
   "source": [
    "# На вход вашей программе поступает список целых чисел через пробел.\n",
    "# Удалите из массива все элементы, значения которых являются нечетными.\n",
    "\n",
    "str1 = input().split()\n",
    "str = [str1[i] for i in range(len(str1)) if int(str1[i]) % 2 == 0]\n",
    "print(' '.join(str))"
   ]
  },
  {
   "cell_type": "code",
   "execution_count": null,
   "metadata": {},
   "outputs": [],
   "source": [
    "# На вход вашей программе поступает список целых чисел через пробел.\n",
    "# Найдите медиану этого списка. (медиана это значение по центру в отсортированном списке\n",
    "# причем если длина четная то возьмите среднее арифметическое двух значений)\n",
    "# В случае если ответом является дробное число – округлите его до одного знака после запятой. \n",
    "# Если ответ – целое число, выведите его без дробной части.\n",
    "\n",
    "\n",
    "import re\n",
    "\n",
    "\n",
    "str1 = input().split(' ')\n",
    "if str1.count('') != 0:\n",
    "    str1.remove('')\n",
    "\n",
    "str1 = ' '.join(str1)\n",
    "str = sorted(re.findall(r'-?\\d+', str1), key=int)\n",
    "\n",
    "n = int(len(str) / 2)\n",
    "res = 0\n",
    "\n",
    "if len(str) % 2 == 0:\n",
    "    res = (float(str[n - 1]) + float(str[n])) / 2\n",
    "    # print(f'{res:.2}' if res % 2 != 0 else int(res))\n",
    "    if int(res) != res:\n",
    "        print(f'{res:.1f}')\n",
    "    else:\n",
    "        print (int(res))\n",
    "else:\n",
    "    print(int(str[n]))\n",
    "\n"
   ]
  },
  {
   "attachments": {},
   "cell_type": "markdown",
   "metadata": {},
   "source": [
    "Множества и словари"
   ]
  },
  {
   "cell_type": "code",
   "execution_count": null,
   "metadata": {},
   "outputs": [],
   "source": [
    "# Определите количество уникальных элементов в последовательности чисел. Ввод заканчивается 0\n",
    "\n",
    "a = set()\n",
    "\n",
    "while '0' not in a:\n",
    "    a.add(input())\n",
    "\n",
    "print(len(a))"
   ]
  },
  {
   "cell_type": "code",
   "execution_count": null,
   "metadata": {},
   "outputs": [],
   "source": [
    "# Напишите программу, которая посчитает сумму квадратов чисел в заданном множестве.\n",
    "\n",
    "# a = input().split()\n",
    "# res = 0\n",
    "\n",
    "# for i in range(len(a)):\n",
    "#     res += int(a[i]) ** 2\n",
    "# print(res)\n",
    "\n",
    "\n",
    "a = {int(i) for i in input().split()}\n",
    "res = 0\n",
    "\n",
    "for i in a:\n",
    "    res += i * i\n",
    "print(res)"
   ]
  },
  {
   "cell_type": "code",
   "execution_count": null,
   "metadata": {},
   "outputs": [],
   "source": [
    "# Вашей программе на вход поступают 3 множества. Каждое на отдельной строке. Элемент множеств отделены друг от друга пробелом.\n",
    "# Первое множество – строки, которые обязательно должны быть в пользовательском вводе\n",
    "# Второе множество – опциональные строки, которые могут быть, и их может не быть\n",
    "# Третье множество – строки введенные пользователем\n",
    "# Выведите True, если пользователь ввел все правильно и False, если ошибся.\n",
    "\n",
    "# login password\n",
    "# name surname\n",
    "# login password name\n",
    "empty = set()\n",
    "flag = True\n",
    "required = {i for i in input().split()}\n",
    "if required == empty:\n",
    "    print(False)\n",
    "else:\n",
    "    optional = {i for i in input().split()}\n",
    "    user_data = {i for i in input().split()}\n",
    "    r = list(required)\n",
    "    o = list(optional)\n",
    "    u = list(user_data)\n",
    "    for i in range(len(required)):\n",
    "        if r[i] in u:\n",
    "            for j in range(len(user_data)):\n",
    "                if u[j] in r or u[j] in o:\n",
    "                    flag = True\n",
    "                else:\n",
    "                    flag = False\n",
    "                    break\n",
    "        else:\n",
    "            flag = False\n",
    "    print(flag)"
   ]
  },
  {
   "cell_type": "code",
   "execution_count": null,
   "metadata": {},
   "outputs": [],
   "source": [
    "# Вам дана строка из слов, разделенных пробелами. Посчитайте для каждого слова – сколько оно раз встречалась в тексте.\n",
    "\n",
    "str = input().split()\n",
    "str.sort()\n",
    "res = {}\n",
    "\n",
    "for i in str:\n",
    "    for j in str:\n",
    "        if i == 0:\n",
    "            res[j] = 0\n",
    "    res[i] = str.count(i)\n",
    "\n",
    "for key, value in res.items():\n",
    "    print(key, value)"
   ]
  },
  {
   "cell_type": "code",
   "execution_count": null,
   "metadata": {},
   "outputs": [],
   "source": [
    "# Вашей программе на вход подается массив содержащий объекты со структурой ниже.\n",
    "\n",
    "# {\n",
    "#     \"id\": num,\n",
    "#     \"parents\": str,\n",
    "#     \"chief\": {\n",
    "#         \"name\": str,\n",
    "#         \"age\": num\n",
    "#     },\n",
    "#     \"age\": num\n",
    "# }\n",
    "\n",
    "import json\n",
    "\n",
    "max = 0\n",
    "d = json.loads(input())\n",
    "for i in range(len(d)):\n",
    "    if d[i][\"age\"] > max:\n",
    "        max = d[i][\"age\"]\n",
    "    if d[i][\"chief\"][\"age\"] > max:\n",
    "        max = d[i][\"chief\"][\"age\"]\n",
    "print(max)\n",
    "# print(max(max(d[\"chief\"][\"age\"]), max(d[\"age\"])))"
   ]
  },
  {
   "cell_type": "code",
   "execution_count": 6,
   "metadata": {},
   "outputs": [
    {
     "name": "stdout",
     "output_type": "stream",
     "text": [
      "['end']\n",
      "{'/api/admin': '/api/admin', '200': '200', '400': '400', '/cities': '/cities'}\n",
      "200 2\n",
      "400 1\n",
      "/api/admin 2\n",
      "/cities 1\n"
     ]
    }
   ],
   "source": [
    "# Вы парсите логи сервера. Напишите программу, которая будет считать количество запросов к серверу, \n",
    "# сгруппированных по статус кодам, а так же ниже количество запросов, сгруппированных по адресу. \n",
    "# Отсортируйте результат по возрастанию и по алфавиту.\n",
    "# Ввод заканчивается ключевым словом end.\n",
    "\n",
    "str1 = input().split()\n",
    "str = {}\n",
    "res_digits = {}\n",
    "res_words = {}\n",
    "n = 1\n",
    "\n",
    "while 'end' not in str1:\n",
    "    for i in str1:\n",
    "        if i.isdigit() == True:\n",
    "            if i in str:\n",
    "                n = int(res_digits[i]) + 1\n",
    "                res_digits[i] = n\n",
    "                n = 1\n",
    "            else:\n",
    "                res_digits[i] = n\n",
    "            str[i] = i\n",
    "        else:\n",
    "            if i in str:\n",
    "                n = int(res_words[i]) + 1\n",
    "                res_words[i] = n\n",
    "                n = 1\n",
    "            else:\n",
    "                res_words[i] = n\n",
    "            str[i] = i\n",
    "    str1 = input().split()\n",
    "\n",
    "\n",
    "res_digits = dict(sorted(res_digits.items()))\n",
    "res_words = dict(sorted(res_words.items()))\n",
    "for key, value in res_digits.items():\n",
    "    print(key, value)\n",
    "for key, value in res_words.items():\n",
    "    print(key, value)"
   ]
  }
 ],
 "metadata": {
  "kernelspec": {
   "display_name": "Python 3",
   "language": "python",
   "name": "python3"
  },
  "language_info": {
   "codemirror_mode": {
    "name": "ipython",
    "version": 3
   },
   "file_extension": ".py",
   "mimetype": "text/x-python",
   "name": "python",
   "nbconvert_exporter": "python",
   "pygments_lexer": "ipython3",
   "version": "3.10.7 (tags/v3.10.7:6cc6b13, Sep  5 2022, 14:08:36) [MSC v.1933 64 bit (AMD64)]"
  },
  "orig_nbformat": 4,
  "vscode": {
   "interpreter": {
    "hash": "26de051ba29f2982a8de78e945f0abaf191376122a1563185a90213a26c5da77"
   }
  }
 },
 "nbformat": 4,
 "nbformat_minor": 2
}
